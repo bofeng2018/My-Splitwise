{
 "cells": [
  {
   "cell_type": "code",
   "execution_count": 1,
   "metadata": {},
   "outputs": [],
   "source": [
    "from heapq import heappush, heappop"
   ]
  },
  {
   "cell_type": "code",
   "execution_count": 2,
   "metadata": {},
   "outputs": [],
   "source": [
    "class MySplitwise:\n",
    "    def __init__(self):\n",
    "        self.people = {}\n",
    "    \n",
    "    def add(self, lender, debtor, amount, debtorProportion = None):\n",
    "        if debtorProportion is None:\n",
    "            debtorProportion = [1 / (len(debtor) + 1)] * len(debtor)\n",
    "        if lender not in self.people:\n",
    "            self.people[lender] = amount * sum(debtorProportion)\n",
    "        else:\n",
    "            self.people[lender] += amount * sum(debtorProportion)\n",
    "        for p, name in zip(debtorProportion, debtor):\n",
    "            if name not in self.people:\n",
    "                self.people[name] = -p * amount\n",
    "            else:\n",
    "                self.people[name] -= p * amount\n",
    "    \n",
    "    def split(self):\n",
    "        pos, neg = [], []\n",
    "        for p in self.people:\n",
    "            if self.people[p] > 0:\n",
    "                heappush(pos, [-self.people[p], p])\n",
    "            else:\n",
    "                heappush(neg, [self.people[p], p])\n",
    "        while neg:\n",
    "            n, p = heappop(neg), heappop(pos)\n",
    "            print(\"{} owes {} ${:.2f}.\".format(n[1], p[1], -n[0]))\n",
    "            if abs(n[0] - p[0]) > 0.009:\n",
    "                if n[0] < p[0]:\n",
    "                    heappush(neg, [n[0] - p[0], p[1]])\n",
    "                else:\n",
    "                    heappush(pos, [p[0] - n[0], p[1]])"
   ]
  },
  {
   "cell_type": "code",
   "execution_count": 3,
   "metadata": {},
   "outputs": [
    {
     "name": "stdout",
     "output_type": "stream",
     "text": [
      "C owes A $116.47.\n",
      "E owes A $116.47.\n",
      "B owes A $8.81.\n",
      "D owes A $4.80.\n"
     ]
    }
   ],
   "source": [
    "party = MySplitwise()\n",
    "\n",
    "party.add(\"A\", [\"B\", \"C\", \"D\", \"E\"], 140)\n",
    "party.add(\"A\", [\"B\", \"C\", \"D\", \"E\"], 25)\n",
    "party.add(\"D\", [\"B\", \"C\", \"A\", \"E\"], 51)\n",
    "party.add(\"A\", [\"B\", \"C\", \"D\", \"E\"], 93)\n",
    "party.add(\"D\", [\"B\", \"C\", \"A\", \"E\"], 60.67)\n",
    "party.add(\"A\", [\"B\", \"C\", \"D\", \"E\"], 105)\n",
    "party.add(\"B\", [\"A\", \"C\", \"D\", \"E\"], 107.66)\n",
    "\n",
    "party.split()"
   ]
  },
  {
   "cell_type": "code",
   "execution_count": null,
   "metadata": {},
   "outputs": [],
   "source": []
  }
 ],
 "metadata": {
  "kernelspec": {
   "display_name": "Python 3",
   "language": "python",
   "name": "python3"
  },
  "language_info": {
   "codemirror_mode": {
    "name": "ipython",
    "version": 3
   },
   "file_extension": ".py",
   "mimetype": "text/x-python",
   "name": "python",
   "nbconvert_exporter": "python",
   "pygments_lexer": "ipython3",
   "version": "3.7.3"
  },
  "toc": {
   "base_numbering": 1,
   "nav_menu": {},
   "number_sections": true,
   "sideBar": true,
   "skip_h1_title": false,
   "title_cell": "Table of Contents",
   "title_sidebar": "Contents",
   "toc_cell": false,
   "toc_position": {},
   "toc_section_display": true,
   "toc_window_display": false
  }
 },
 "nbformat": 4,
 "nbformat_minor": 4
}
